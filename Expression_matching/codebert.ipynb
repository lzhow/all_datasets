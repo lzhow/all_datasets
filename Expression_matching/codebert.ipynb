{
 "cells": [
  {
   "cell_type": "code",
   "execution_count": 2,
   "metadata": {},
   "outputs": [],
   "source": [
    "import os\n",
    "os.chdir('baseline_expression_match')"
   ]
  },
  {
   "cell_type": "code",
   "execution_count": 4,
   "metadata": {},
   "outputs": [],
   "source": [
    "from utils.tree_sitter_utils import split_functions, remove_comments_and_docstrings, solidity_parser\n",
    "from pprint import pprint\n",
    "from utils.buildASTG import ASTGraphCreator, make_graph\n",
    "import networkx as nx\n",
    "import matplotlib.pyplot as plt\n",
    "from utils.ExpressionVisitor import TypedVisitor\n",
    "from utils.transform import transformAST\n",
    "def read_expressions(file):\n",
    "    code = open(file).read()\n",
    "    tree = solidity_parser.parse(bytes(code,'utf8')) \n",
    "    type_visitor = TypedVisitor()\n",
    "    type_visitor.walk(tree)\n",
    "    res_statment = {}\n",
    "    check_expression = []\n",
    "    vars = [\"variable_declaration_statement\", \"expression_statement\", \"binary_expression\", \"call_expression\", \"variable_declaration_statement\", \"return_statement\", \"assignment_expression\"]\n",
    "    for v in vars:\n",
    "        for ex in type_visitor.type_to_node[v]:\n",
    "            check_expression.append(ex.text)\n",
    "    return vars"
   ]
  }
 ],
 "metadata": {
  "kernelspec": {
   "display_name": "web3",
   "language": "python",
   "name": "python3"
  },
  "language_info": {
   "codemirror_mode": {
    "name": "ipython",
    "version": 3
   },
   "file_extension": ".py",
   "mimetype": "text/x-python",
   "name": "python",
   "nbconvert_exporter": "python",
   "pygments_lexer": "ipython3",
   "version": "3.10.5"
  },
  "orig_nbformat": 4
 },
 "nbformat": 4,
 "nbformat_minor": 2
}
