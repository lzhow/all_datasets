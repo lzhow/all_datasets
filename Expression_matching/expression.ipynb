{
 "cells": [
  {
   "cell_type": "code",
   "execution_count": null,
   "metadata": {},
   "outputs": [],
   "source": [
    "import csv\n",
    "import pandas as pd\n",
    "from transformers import AutoTokenizer, AutoModelForCausalLM\n",
    "import torch\n",
    "import os\n",
    "import json"
   ]
  },
  {
   "cell_type": "code",
   "execution_count": null,
   "metadata": {},
   "outputs": [],
   "source": [
    "base_path = \"code\""
   ]
  },
  {
   "cell_type": "code",
   "execution_count": null,
   "metadata": {},
   "outputs": [],
   "source": [
    "def load_plm(model_name):\n",
    "  # AutoModelForMaskedLM\n",
    "  tokenizer = AutoTokenizer.from_pretrained(f'huggingface/hub/{model_name}', trust_remote_code=True)\n",
    "  model = AutoModelForCausalLM.from_pretrained(f'huggingface/hub/{model_name}', trust_remote_code=True)\n",
    "\n",
    "  device = torch.device(\"cuda\" if torch.cuda.is_available() else \"cpu\")\n",
    "  model.to(device)\n",
    "  return tokenizer, model"
   ]
  },
  {
   "cell_type": "code",
   "execution_count": null,
   "metadata": {},
   "outputs": [],
   "source": [
    "tokenizer, model = load_plm('CodeLlama-13b-Instruct-hf')\n",
    "\n",
    "# tokenizer, model = load_plm('starchat-alpha')"
   ]
  },
  {
   "cell_type": "code",
   "execution_count": null,
   "metadata": {},
   "outputs": [],
   "source": [
    "from transformers import pipeline\n",
    "\n",
    "# \n",
    "chat_pipe = pipeline(\"text-generation\", model=model, tokenizer=tokenizer)\n",
    "\n",
    "# \n",
    "def chat_with_model(prompt):\n",
    "    input_ids = chat_pipe.tokenizer.encode(prompt, return_tensors='pt').to('cuda')\n",
    "    response = chat_pipe.model.generate(input_ids, max_new_tokens=128, no_repeat_ngram_size=2)\n",
    "    return chat_pipe.tokenizer.decode(response[0], skip_special_tokens=True)\n",
    "\n",
    "# # \n",
    "# prompt = \" Python ？\"  # \n",
    "# print(chat_with_model(prompt))\n"
   ]
  },
  {
   "cell_type": "code",
   "execution_count": null,
   "metadata": {},
   "outputs": [],
   "source": [
    "from transformers import pipeline\n",
    "\n",
    "\n",
    "def get_answer(question):\n",
    "  pipe = pipeline(\"text-generation\", model=model, tokenizer=tokenizer, device=0)\n",
    "   # \n",
    "  prompt_template = \"<|system|>\\n<|end|>\\n<|user|>\\n{query}<|end|>\\n<|assistant|>\"\n",
    "  prompt = prompt_template.format(query=question)\n",
    "\n",
    "  outputs = pipe(prompt, max_new_tokens=256, no_repeat_ngram_size=2)\n",
    "\n",
    "  # \n",
    "  return outputs[0][\"generated_text\"]"
   ]
  },
  {
   "cell_type": "markdown",
   "metadata": {},
   "source": []
  },
  {
   "cell_type": "code",
   "execution_count": null,
   "metadata": {},
   "outputs": [],
   "source": [
    "from transformers import pipeline\n",
    "\n",
    "# \n",
    "chat_pipe = pipeline(\"text-generation\", model=model, tokenizer=tokenizer)\n",
    "\n",
    "# \n",
    "def chat_with_model(question):\n",
    "    prompt_template = \"\"\" \n",
    "# <s>[INST] \n",
    "# {query}\n",
    "# [/INST]\n",
    "#  \n",
    "\"\"\"\n",
    "    \n",
    "    prompt = prompt_template.format(query=question)\n",
    "    input_ids = chat_pipe.tokenizer.encode(prompt, return_tensors='pt').to('cuda')\n",
    "    response = chat_pipe.model.generate(input_ids, max_new_tokens=512, no_repeat_ngram_size=2)\n",
    "    return chat_pipe.tokenizer.decode(response[0], skip_special_tokens=True)"
   ]
  },
  {
   "cell_type": "code",
   "execution_count": null,
   "metadata": {},
   "outputs": [],
   "source": [
    "question = \"\"\"\n",
    "You are an AI trained to detect similar code expressions. Given a Smart Contract code and a specific target code expression, your task is to find and list the most similar expressions within the provided Smart Contract code. I will show you the answer format and then please analyze the new input following code file and search for expressions that closely resemble the target code piece provided.\n",
    "\n",
    "```\n",
    "{\"Answer\":\"Yes\" or \"No\", \"similar_expressions\": [\n",
    "    {\n",
    "      \"function_name\": the matched funciton name,\n",
    "      \"line_number\": line_number,\n",
    "      \"expression\": the similar code\n",
    "    }\n",
    "  ]\n",
    "  \"Reason\": your reason\n",
    "  }\n",
    "\n",
    "\n",
    "\n",
    "Input Smart Contract Code:\n",
    "```Solidity\n",
    "function getUserLimitIntraAsset ( address payable userAddr ) external view override returns (uint256, uint256) {\n",
    "\t\tuint256 userTotalBorrowLimitAsset;\n",
    "\t\tuint256 userTotalMarginCallLimitAsset;\n",
    "\t\tfor (uint256 handlerID;\n",
    " handlerID < tokenHandlerLength;\n",
    " handlerID++)\t\t{\n",
    "\t\t\tif (dataStorageInstance.getTokenHandlerSupport(handlerID))\t\t\t{\n",
    "\t\t\t\tuint256 depositHandlerAsset;\n",
    "\t\t\t\tuint256 borrowHandlerAsset;\n",
    "\t\t\t\t(depositHandlerAsset, borrowHandlerAsset) = _getUserIntraHandlerAssetWithInterest(userAddr, handlerID);\n",
    "\t\t\t\tuint256 borrowLimit = _getTokenHandlerBorrowLimit(handlerID);\n",
    "\t\t\t\tuint256 marginCallLimit = _getTokenHandlerMarginCallLimit(handlerID);\n",
    "\t\t\t\tuint256 userBorrowLimitAsset = depositHandlerAsset.unifiedMul(borrowLimit);\n",
    "\t\t\t\tuint256 userMarginCallLimitAsset = depositHandlerAsset.unifiedMul(marginCallLimit);\n",
    "\t\t\t\tuserTotalBorrowLimitAsset = userTotalBorrowLimitAsset.add(userBorrowLimitAsset);\n",
    "\t\t\t\tuserTotalMarginCallLimitAsset = userTotalMarginCallLimitAsset.add(userMarginCallLimitAsset);\n",
    "\t\t\t}\n",
    "\t\t\telse\t\t\t{\n",
    "\t\t\t\tcontinue;\n",
    "\t\t\t}\n",
    "\t\t}\n",
    "\t\treturn (userTotalBorrowLimitAsset, userTotalMarginCallLimitAsset);\n",
    "\t}\n",
    "\n",
    "function _getUserIntraHandlerAssetWithInterest ( address payable userAddr , uint256 handlerID ) internal view returns (uint256, uint256) {\n",
    "\t\tuint256 price = _getTokenHandlerPrice(handlerID);\n",
    "\t\tproxyContractInterface tokenHandler = proxyContractInterface(dataStorageInstance.getTokenHandlerAddr(handlerID));\n",
    "\t\tuint256 depositAmount;\n",
    "\t\tuint256 borrowAmount;\n",
    "\t\tbytes memory data;\n",
    "\t\t(, data) = tokenHandler.handlerViewProxy(\t\t\tabi.encodeWithSelector(\t\t\t\tmarketHandlerInterface.getUserAmountWithInterest.selector,\t\t\t\tuserAddr\t\t\t)\t\t);\n",
    "\t\t(depositAmount, borrowAmount) = abi.decode(data, (uint256, uint256));\n",
    "\t\tuint256 depositAsset = depositAmount.unifiedMul(price);\n",
    "\t\tuint256 borrowAsset = borrowAmount.unifiedMul(price);\n",
    "\t\treturn (depositAsset, borrowAsset);\n",
    "\t}\n",
    "function _checkLiquidation ( address payable userAddr ) internal view returns (bool) {\n",
    "\t\tuint256 userBorrowAssetSum;\n",
    "\t\tuint256 liquidationLimitAssetSum;\n",
    "\t\tuint256 tokenListLength = marketManager.getTokenHandlersLength();\n",
    "\t\tfor (uint256 handlerID = 0;\n",
    " handlerID < tokenListLength;\n",
    " handlerID++)\t\t{\n",
    "\t\t\tif (marketManager.getTokenHandlerSupport(handlerID))\t\t\t{\n",
    "\t\t\t\tuint256 depositAsset;\n",
    "\t\t\t\tuint256 borrowAsset;\n",
    "\t\t\t\t(depositAsset, borrowAsset) = marketManager.getUserIntraHandlerAssetWithInterest(userAddr, handlerID);\n",
    "\t\t\t\tuint256 marginCallLimit = marketManager.getTokenHandlerMarginCallLimit(handlerID);\n",
    "\t\t\t\tliquidationLimitAssetSum = add(liquidationLimitAssetSum, unifiedMul(depositAsset, marginCallLimit));\n",
    "\t\t\t\tuserBorrowAssetSum = add(userBorrowAssetSum, borrowAsset);\n",
    "\t\t\t}\n",
    "\t\t}\n",
    "\t\tif (liquidationLimitAssetSum <= userBorrowAssetSum)\t\t{\n",
    "\t\t\treturn true;\n",
    "\t\t}\n",
    "\t\treturn false;\n",
    "\t}\n",
    "\n",
    "function partialLiquidation ( address payable delinquentBorrower , uint256 targetHandler , uint256 liquidateAmount , uint256 receiveHandler ) circuitBreaker external override returns (uint256) {\n",
    "\t\taddress payable liquidator = msg.sender;\n",
    "\t\tLiquidationModel memory vars;\n",
    "\t\tif (_checkLiquidation(delinquentBorrower) == false)\t\t{\n",
    "\t\t\trevert(NO_DELINQUENT);\n",
    "\t\t}\n",
    "\t\t(vars.liquidateAmount, vars.delinquentDepositAsset, vars.delinquentBorrowAsset) = marketManager.partialLiquidationUser(delinquentBorrower, liquidateAmount, liquidator, targetHandler, receiveHandler);\n",
    "\t\tvars.liquidatePrice = marketManager.getTokenHandlerPrice(targetHandler);\n",
    "\t\tvars.liquidateAsset = unifiedMul(vars.liquidateAmount, vars.liquidatePrice);\n",
    "\t\tvars.rewardAsset = unifiedDiv(unifiedMul(vars.liquidateAsset, vars.delinquentDepositAsset), vars.delinquentBorrowAsset);\n",
    "\t\tvars.receivePrice = marketManager.getTokenHandlerPrice(receiveHandler);\n",
    "\t\tvars.rewardAmount = unifiedDiv(vars.rewardAsset, vars.receivePrice);\n",
    "\t\tmarketManager.partialLiquidationUserReward(delinquentBorrower, vars.rewardAmount, liquidator, receiveHandler);\n",
    "    emit Liquidate(liquidator, delinquentBorrower, targetHandler, vars.liquidateAmount, receiveHandler, vars.rewardAmount);\n",
    "    return vars.rewardAmount;\n",
    "\t}\n",
    "\n",
    "function partialLiquidation ( address payable delinquentBorrower , uint256 targetHandler , uint256 liquidateAmount , uint256 receiveHandler ) circuitBreaker external override returns (uint256) {\n",
    "\t\taddress payable liquidator = msg.sender;\n",
    "\t\tLiquidationModel memory vars;\n",
    "\t\tif (_checkLiquidation(delinquentBorrower) == false)\t\t{\n",
    "\t\t\trevert(NO_DELINQUENT);\n",
    "\t\t}\n",
    "\t\t(vars.liquidateAmount, vars.delinquentDepositAsset, vars.delinquentBorrowAsset) = marketManager.partialLiquidationUser(delinquentBorrower, liquidateAmount, liquidator, targetHandler, receiveHandler);\n",
    "\t\tvars.liquidatePrice = marketManager.getTokenHandlerPrice(targetHandler);\n",
    "\t\tvars.liquidateAsset = unifiedMul(vars.liquidateAmount, vars.liquidatePrice);\n",
    "\t\tvars.rewardAsset = unifiedDiv(unifiedMul(vars.liquidateAsset, vars.delinquentDepositAsset), vars.delinquentBorrowAsset);\n",
    "\t\tvars.receivePrice = marketManager.getTokenHandlerPrice(receiveHandler);\n",
    "\t\tvars.rewardAmount = unifiedDiv(vars.rewardAsset, vars.receivePrice);\n",
    "\t\tmarketManager.partialLiquidationUserReward(delinquentBorrower, vars.rewardAmount, liquidator, receiveHandler);\n",
    "    emit Liquidate(liquidator, delinquentBorrower, targetHandler, vars.liquidateAmount, receiveHandler, vars.rewardAmount);\n",
    "    return vars.rewardAmount;\n",
    "\t}\n",
    "\n",
    "function partialLiquidation ( address payable delinquentBorrower , uint256 targetHandler , uint256 liquidateAmount , uint256 receiveHandler ) circuitBreaker external override returns (uint256) {\n",
    "\t\taddress payable liquidator = msg.sender;\n",
    "\t\tLiquidationModel memory vars;\n",
    "\t\tif (_checkLiquidation(delinquentBorrower) == false)\t\t{\n",
    "\t\t\trevert(NO_DELINQUENT);\n",
    "\t\t}\n",
    "\t\t(vars.liquidateAmount, vars.delinquentDepositAsset, vars.delinquentBorrowAsset) = marketManager.partialLiquidationUser(delinquentBorrower, liquidateAmount, liquidator, targetHandler, receiveHandler);\n",
    "\t\tvars.liquidatePrice = marketManager.getTokenHandlerPrice(targetHandler);\n",
    "\t\tvars.liquidateAsset = unifiedMul(vars.liquidateAmount, vars.liquidatePrice);\n",
    "\t\tvars.rewardAsset = unifiedDiv(unifiedMul(vars.liquidateAsset, vars.delinquentDepositAsset), vars.delinquentBorrowAsset);\n",
    "\t\tvars.receivePrice = marketManager.getTokenHandlerPrice(receiveHandler);\n",
    "\t\tvars.rewardAmount = unifiedDiv(vars.rewardAsset, vars.receivePrice);\n",
    "\t\tmarketManager.partialLiquidationUserReward(delinquentBorrower, vars.rewardAmount, liquidator, receiveHandler);\n",
    "    emit Liquidate(liquidator, delinquentBorrower, targetHandler, vars.liquidateAmount, receiveHandler, vars.rewardAmount);\n",
    "    return vars.rewardAmount;\n",
    "\t}\n",
    "\n",
    "\n",
    "function _getSIRandBIR ( uint256 depositTotalAmount , uint256 borrowTotalAmount ) internal view returns (uint256, uint256) {\n",
    "\t\tuint256 utilRate = _getUtilizationRate(depositTotalAmount, borrowTotalAmount);\n",
    "\t\tuint256 BIR;\n",
    "\t\tuint256 _jmpPoint = jumpPoint;\n",
    "\t\tif(utilRate < _jmpPoint) {\n",
    "\t\t\tBIR = utilRate.unifiedMul(basicSensitivity).add(minRate);\n",
    "\t\t}\n",
    " else {\n",
    "      BIR = minRate      .add( _jmpPoint.unifiedMul(basicSensitivity) )      .add( utilRate.sub(_jmpPoint).unifiedMul(jumpSensitivity) );\n",
    "\t\t}\n",
    "\t\tuint256 SIR = utilRate.unifiedMul(BIR).unifiedMul(spreadRate);\n",
    "\t\treturn (SIR, BIR);\n",
    "\t}\n",
    "\n",
    "function _getSIRandBIRonBlock ( uint256 depositTotalAmount , uint256 borrowTotalAmount ) internal view returns (uint256, uint256) {\n",
    "\t\tuint256 SIR;\n",
    "\t\tuint256 BIR;\n",
    "\t\t(SIR, BIR) = _getSIRandBIR(depositTotalAmount, borrowTotalAmount);\n",
    "\t\treturn ( SIR.div(blocksPerYear), BIR.div(blocksPerYear) );\n",
    "\t}\n",
    "\n",
    "``` \n",
    "\n",
    "Input Specific Target Code Expression:\n",
    "```Target Expression\n",
    "if(utilization < optimal_utilization_level){\n",
    "            annual_borrowing_interest_rate = minimum_interest_rate + utilization *  sensitivity_one;\n",
    "        }\n",
    "else if (utilization > optimal_utilization_level) {\n",
    "            annual_borrowing_interest_rate = minimum_interest_rate + optimal_utilization_level *  sensitivity_one + (utilization - optimal_utilization_level) * sensitivity_two;\n",
    "        }\n",
    "        \n",
    "```\n",
    "Please identify the similar expressions, their corresponding function name and their corresponding line numbers in the code file. You also need to replace the function calls \"add\", \"sub\", \"div\", \"mul\", \"divCeil\" in the found similar expressions with \"+\", \"-\", \"/\" and \"*\".  Put your results in JSON format at the beginning.\n",
    "\"\"\""
   ]
  },
  {
   "cell_type": "code",
   "execution_count": null,
   "metadata": {},
   "outputs": [],
   "source": [
    "ans = chat_with_model(question)"
   ]
  },
  {
   "cell_type": "code",
   "execution_count": null,
   "metadata": {},
   "outputs": [],
   "source": [
    "ans = get_answer(question)"
   ]
  },
  {
   "cell_type": "code",
   "execution_count": null,
   "metadata": {},
   "outputs": [],
   "source": [
    "print(ans)"
   ]
  },
  {
   "cell_type": "code",
   "execution_count": null,
   "metadata": {},
   "outputs": [],
   "source": [
    "print(ans.split('<|assistant|>')[-1])"
   ]
  },
  {
   "cell_type": "code",
   "execution_count": null,
   "metadata": {},
   "outputs": [],
   "source": [
    "print(ans.split(\"# [/INST]\\n# \")[-1])"
   ]
  },
  {
   "cell_type": "code",
   "execution_count": null,
   "metadata": {},
   "outputs": [],
   "source": [
    "from transformers import pipeline\n",
    "\n",
    "\n",
    "def get_answer(question):\n",
    "  pipe = pipeline(\"text-generation\", model=model, tokenizer=tokenizer, device=0)\n",
    "   # \n",
    "  prompt_template = \"<|system|>\\n<|end|>\\n<|user|>\\n{query}<|end|>\\n<|assistant|>\"\n",
    "  prompt = prompt_template.format(query=question)\n",
    "\n",
    "  outputs = pipe(prompt, max_new_tokens=256, no_repeat_ngram_size=2)\n",
    "\n",
    "  # \n",
    "  return outputs[0][\"generated_text\"]"
   ]
  },
  {
   "cell_type": "code",
   "execution_count": null,
   "metadata": {},
   "outputs": [],
   "source": [
    "def get_answer(question):\n",
    "  inputs = tokenizer.encode(question, return_tensors=\"pt\").to(model.device)\n",
    "  outputs = model.generate(inputs, max_length=4608)\n",
    "  response = tokenizer.decode(outputs[0])\n",
    "\n",
    "  return response"
   ]
  },
  {
   "cell_type": "code",
   "execution_count": null,
   "metadata": {},
   "outputs": [],
   "source": [
    "\n",
    "csv_filename = 'expression_status_codellama.csv'"
   ]
  },
  {
   "cell_type": "code",
   "execution_count": null,
   "metadata": {},
   "outputs": [],
   "source": [
    "import csv\n",
    "import os\n",
    "\n",
    "print(os.getcwd())\n",
    "\n",
    "os.chdir(\"all_datasets/expression_match\")"
   ]
  },
  {
   "cell_type": "code",
   "execution_count": null,
   "metadata": {},
   "outputs": [],
   "source": [
    "def create_csv_with_files(base_dir, csv_filename):\n",
    "    with open(csv_filename, 'w', newline='', encoding='utf-8') as csvfile:\n",
    "        filewriter = csv.writer(csvfile)\n",
    "        filewriter.writerow(['filename', 'status'])  # \n",
    "\n",
    "        for file in sorted(os.listdir(base_dir)):\n",
    "            filewriter.writerow([file, 0])  # 0\n",
    "\n",
    "if os.path.exists(csv_filename) is False:\n",
    "    create_csv_with_files(base_path, csv_filename)\n"
   ]
  },
  {
   "cell_type": "code",
   "execution_count": null,
   "metadata": {},
   "outputs": [],
   "source": [
    "import csv\n",
    "\n",
    "def read_status_from_csv():\n",
    "    status_dict = {}\n",
    "    with open(csv_filename, 'r', newline='', encoding='utf-8') as csvfile:\n",
    "        reader = csv.reader(csvfile)\n",
    "        next(reader)  # \n",
    "        for row in reader:\n",
    "            status_dict[row[0]] = int(row[1])  # ，\n",
    "    return status_dict\n"
   ]
  },
  {
   "cell_type": "code",
   "execution_count": null,
   "metadata": {},
   "outputs": [],
   "source": [
    "def update_csv_status(filename, new_status):\n",
    "    rows = []\n",
    "    with open(csv_filename, 'r', newline='', encoding='utf-8') as file:\n",
    "        reader = csv.reader(file)\n",
    "        for row in reader:\n",
    "            if row[0] == filename:\n",
    "                row[1] = new_status\n",
    "            rows.append(row)\n",
    "\n",
    "    with open(csv_filename, 'w', newline='', encoding='utf-8') as file:\n",
    "        writer = csv.writer(file)\n",
    "        writer.writerows(rows)\n"
   ]
  },
  {
   "cell_type": "code",
   "execution_count": null,
   "metadata": {},
   "outputs": [],
   "source": [
    "import glob"
   ]
  },
  {
   "cell_type": "code",
   "execution_count": null,
   "metadata": {},
   "outputs": [],
   "source": [
    "torch.cuda.empty_cache()"
   ]
  },
  {
   "cell_type": "code",
   "execution_count": null,
   "metadata": {},
   "outputs": [],
   "source": [
    "file_status = read_status_from_csv()\n",
    "files = sorted(os.listdir(base_path))\n",
    "for f in files:\n",
    "    question_dir = os.path.join(base_path, f)\n",
    "    print(question_dir)\n",
    "\n",
    "# 'question'、'.md'\n",
    "    files = glob.glob(f'{question_dir}/question*.md')\n",
    "    question_file = files[0]\n",
    "    answer_file = os.path.join(question_dir, \"codellama.md\")\n",
    "\n",
    "    # \n",
    "    if file_status.get(f, 0) == 1:\n",
    "        print(f\": {question_file}\")\n",
    "        continue\n",
    "\n",
    "    with open(question_file, \"r\") as file:\n",
    "        question = file.read()\n",
    "        \n",
    "    # \n",
    "    try:\n",
    "        answer = chat_with_model(question)  # \n",
    "        res = answer.split('# [/INST]\\n# ')[-1]\n",
    "        \n",
    "\n",
    "        with open(answer_file, \"w\") as file:\n",
    "            file.write(res)\n",
    "    \n",
    "        # 1\n",
    "        update_csv_status(f, 1)\n",
    "    except Exception as e:\n",
    "        print(e)"
   ]
  },
  {
   "cell_type": "code",
   "execution_count": null,
   "metadata": {},
   "outputs": [],
   "source": [
    "def extract_answer(text):\n",
    "    start_marker = \"```json\"\n",
    "    end_marker = \"```<|end|>\"\n",
    "    start_index = text.find(start_marker)\n",
    "    if start_index != -1:\n",
    "        start_index += len(start_marker) + 1\n",
    "        end_index = text.find(end_marker, start_index)\n",
    "        if end_index != -1:\n",
    "            return text[start_index:end_index].strip()\n",
    "    return None"
   ]
  }
 ],
 "metadata": {
  "kernelspec": {
   "display_name": "huggingface",
   "language": "python",
   "name": "python3"
  },
  "language_info": {
   "codemirror_mode": {
    "name": "ipython",
    "version": 3
   },
   "file_extension": ".py",
   "mimetype": "text/x-python",
   "name": "python",
   "nbconvert_exporter": "python",
   "pygments_lexer": "ipython3",
   "version": "3.10.5"
  }
 },
 "nbformat": 4,
 "nbformat_minor": 2
}
