{
 "cells": [
  {
   "attachments": {},
   "cell_type": "markdown",
   "metadata": {},
   "source": [
    "# Call Graph"
   ]
  },
  {
   "cell_type": "code",
   "execution_count": 1,
   "metadata": {},
   "outputs": [],
   "source": [
    "import json\n",
    "import networkx as nx\n",
    "def process_CG(fname):\n",
    "    G = nx.DiGraph()\n",
    "    data = json.load(open(fname))\n",
    "    # add ids\n",
    "    # convert to nodes, edges format\n",
    "    nodes = data[\"nodes\"]\n",
    "    edges_raw = data[\"edges\"]\n",
    "    \n",
    "    id_mapping={}\n",
    "    for n in nodes:\n",
    "        if 'name' in n:\n",
    "            n['id'] = n['name']\n",
    "        id_mapping[n['id']] = len(id_mapping)\n",
    "    if \"None\" not in id_mapping:\n",
    "        id_mapping[None] = len(id_mapping)\n",
    "    for n in nodes:\n",
    "        id =  id_mapping[n[\"id\"]]\n",
    "        G.add_node(int(id), label = n[\"id\"], type = n[\"type\"] if \"type\" in n   else n[\"label\"] if \"label\" in n else \"\")\n",
    "    G.add_node(id_mapping[None], label =\"None\", type = \"None\" )\n",
    "    edges = [ ]\n",
    "    for e in edges_raw:\n",
    "        if \"source\" in e and \"target\" in e:\n",
    "            if e[\"source\"] in id_mapping:\n",
    "                source = id_mapping[e[\"source\"]] \n",
    "            else:\n",
    "                #continue\n",
    "                source = e[\"source\"]\n",
    "            if e[\"target\"] in id_mapping:\n",
    "                target = id_mapping[e[\"target\"]]\n",
    "            else:\n",
    "                #continue\n",
    "                target = e[\"target\"]\n",
    "            # source = id_mapping[e[\"source\"]]\n",
    "            # target = id_mapping[e[\"target\"]]\n",
    "            G.add_edge(int(source), int(target), label=e['label'] if 'label' in e else \"\" )\n",
    "        elif \"from\" in e and \"to\" in e:\n",
    "            if e[\"to\"] in id_mapping:\n",
    "                target = id_mapping[e[\"to\"]] \n",
    "            else:\n",
    "                continue\n",
    "            if e[\"from\"] in id_mapping:\n",
    "                source = id_mapping[e[\"from\"]]\n",
    "            else:\n",
    "                continue\n",
    "            G.add_edge(int(source), int(target), label=e['label'] if 'label' in e else \"\" )\n",
    "\n",
    "    G.add_edges_from( edges )\n",
    "    print(id_mapping)\n",
    "    print(edges_raw)\n",
    "    print(G.nodes)\n",
    "    print(G.edges)\n",
    "    return G\n",
    "\n",
    "import matplotlib.pyplot as plt\n",
    "def drawG(G,saved_file):\n",
    "    pos = nx.drawing.nx_agraph.graphviz_layout(G, prog=\"dot\")\n",
    "    fig=plt.figure(figsize=(20,20))\n",
    "    nx.draw(\n",
    "                                G,\n",
    "                                pos=pos,\n",
    "                                font_size=8,\n",
    "                                labels={n: attr[\"type\"] + \" \\n \" + str(attr[\"label\"]) for n, attr in G.nodes(data=True)},\n",
    "                                with_labels=True,\n",
    "                            )\n",
    "    plt.savefig(saved_file)\n"
   ]
  },
  {
   "cell_type": "code",
   "execution_count": 3,
   "metadata": {},
   "outputs": [],
   "source": [
    "import os\n",
    "os.chdir('open-source/starchat-alpha/CG')"
   ]
  },
  {
   "cell_type": "code",
   "execution_count": 4,
   "metadata": {},
   "outputs": [
    {
     "name": "stdout",
     "output_type": "stream",
     "text": [
      "C\\ccg0.c\\CG.txt\n",
      "C\\ccg1.c\\CG.txt\n",
      "C\\ccg2.c\\CG.txt\n",
      "C\\ccg3.c\\CG.txt\n",
      "C\\fibo.c\\CG.txt\n",
      "C\\linked_list.c\\CG.txt\n",
      "C\\sort.c\\CG.txt\n",
      "java\\collection.java\\CG.txt\n",
      "java\\factorial.java\\CG.txt\n",
      "java\\javacall.java\\CG.txt\n",
      "java\\javacall1.java\\CG.txt\n",
      "java\\javacall2.java\\CG.txt\n",
      "java\\javacall3.java\\CG.txt\n",
      "java\\recurisive.java\\CG.txt\n",
      "python\\cpython1.py\\CG.txt\n",
      "python\\cpython2.py\\CG.txt\n",
      "python\\cpython4.py\\CG.txt\n",
      "python\\cpythong.py\\CG.txt\n",
      "python\\factorial.py\\CG.txt\n",
      "python\\visualize.py\\CG.txt\n",
      "solidity\\sol1.sol\\CG.txt\n",
      "solidity\\sol2.sol\\CG.txt\n",
      "solidity\\sol3.sol\\CG.txt\n",
      "solidity\\sol4.sol\\CG.txt\n"
     ]
    }
   ],
   "source": [
    "import glob\n",
    "import os\n",
    "# G=process_ast(\"datasets/AST/C/chatgpt_c_tutorial/array.c/answer.txt\")\n",
    "# saved_pdf=\"\"\n",
    "\n",
    "ast_folder = [\"C\", \"java\", \"python\" , \"solidity\"]\n",
    "for af in ast_folder:\n",
    "    for answer_file in glob.glob(af + \"/**/CG.txt\", recursive=True):\n",
    "        saved_pdf = os.path.dirname(answer_file) + \"/cg.pdf\"\n",
    "        print(answer_file)\n",
    "        try:\n",
    "            G = process_CG(answer_file)\n",
    "            drawG(G, saved_pdf)\n",
    "        except Exception as e:\n",
    "            continue"
   ]
  },
  {
   "cell_type": "code",
   "execution_count": null,
   "metadata": {},
   "outputs": [],
   "source": [
    "# conda install --channel conda-forge pygraphviz"
   ]
  },
  {
   "cell_type": "code",
   "execution_count": null,
   "metadata": {},
   "outputs": [],
   "source": []
  }
 ],
 "metadata": {
  "kernelspec": {
   "display_name": "huggingface",
   "language": "python",
   "name": "python3"
  },
  "language_info": {
   "codemirror_mode": {
    "name": "ipython",
    "version": 3
   },
   "file_extension": ".py",
   "mimetype": "text/x-python",
   "name": "python",
   "nbconvert_exporter": "python",
   "pygments_lexer": "ipython3",
   "version": "3.11.5"
  },
  "orig_nbformat": 4
 },
 "nbformat": 4,
 "nbformat_minor": 2
}
