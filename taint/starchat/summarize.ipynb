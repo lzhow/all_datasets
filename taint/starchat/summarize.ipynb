{
 "cells": [
  {
   "cell_type": "code",
   "execution_count": null,
   "metadata": {},
   "outputs": [],
   "source": [
    "import os\n",
    "print(os.getcwd())\n",
    "\n",
    "os.chdir('datasets/solidity_src/')"
   ]
  },
  {
   "cell_type": "code",
   "execution_count": 2,
   "metadata": {},
   "outputs": [],
   "source": [
    "import shutil\n",
    "\n",
    "#  source_file_path  destination_file_path\n",
    "\n",
    "for file_dir in sorted(os.listdir()):\n",
    "  if os.path.isdir(file_dir) and file_dir not in  ['poc_projects', 'few_shot_examples']:\n",
    "    # print(file_dir)\n",
    "    contract = os.path.join(file_dir, 'formatted', 'facts_contract_sample_50.json')\n",
    "    shutil.copyfile(contract, f\"../../all_datasets/dp_taint/starchat/{file_dir}/facts_contract_sample_50.json\")\n",
    "\n",
    "    function = os.path.join(file_dir, 'formatted', 'facts_function_sample_50.json')\n",
    "    shutil.copyfile(function, f\"../../all_datasets/dp_taint/starchat/{file_dir}/facts_function_sample_50.json\")"
   ]
  },
  {
   "cell_type": "code",
   "execution_count": 3,
   "metadata": {},
   "outputs": [],
   "source": [
    "os.chdir('../../all_datasets/dp_taint/starchat/')"
   ]
  },
  {
   "cell_type": "code",
   "execution_count": null,
   "metadata": {},
   "outputs": [],
   "source": [
    "os.getcwd()"
   ]
  },
  {
   "cell_type": "code",
   "execution_count": 5,
   "metadata": {},
   "outputs": [],
   "source": [
    "\n",
    "import json\n",
    "import os\n",
    "for file_dir in sorted(os.listdir()):\n",
    "  if os.path.isdir(file_dir):\n",
    "    # contract\n",
    "\n",
    "    # JSON\n",
    "    with open(f'{file_dir}/facts_contract_sample_50.json', 'r') as file:\n",
    "        data = json.load(file)\n",
    "    \n",
    "\n",
    "    #  dp  taint \n",
    "    for part in data:\n",
    "        # 'dp'  'taint' \n",
    "        folder_name = 'dp' if part == data[0] else 'taint'\n",
    "\n",
    "        # A\n",
    "        for i, A in enumerate(part):\n",
    "          # \n",
    "          file_name = f\"{file_dir}/contract/{folder_name}/{i}.txt\"  # .txt\n",
    "\n",
    "          # B\n",
    "          if os.path.exists(file_name):\n",
    "              with open(file_name, 'r') as file:\n",
    "                  content = file.read()\n",
    "                  A.append(content)  # B\n",
    "\n",
    "    # JSON\n",
    "    with open(f'{file_dir}/facts_contract_sample_50_dp_starchat.json', 'w') as file:\n",
    "        json.dump(data[0], file, indent=4)\n",
    "    with open(f'{file_dir}/facts_contract_sample_50_taint_starchat.json', 'w') as file:\n",
    "        json.dump(data[1], file, indent=4)\n",
    "\n",
    "    # function\n",
    "    \n",
    "    # JSON\n",
    "    with open(f'{file_dir}/facts_function_sample_50.json', 'r') as file:\n",
    "        data = json.load(file)\n",
    "\n",
    "    #  dp  taint \n",
    "    for part in data:\n",
    "        # 'dp'  'taint' \n",
    "        folder_name = 'dp' if part == data[0] else 'taint'\n",
    "\n",
    "        # A\n",
    "        for i, A in enumerate(part):\n",
    "          # \n",
    "          file_name = f\"{file_dir}/function/{folder_name}/{i}.txt\"  # .txt\n",
    "\n",
    "          # B\n",
    "          if os.path.exists(file_name):\n",
    "              with open(file_name, 'r') as file:\n",
    "                  content = file.read()\n",
    "                  A.append(content)  # B\n",
    "\n",
    "    # JSON\n",
    "    with open(f'{file_dir}/facts_function_sample_50_dp_starchat.json', 'w') as file:\n",
    "        json.dump(data[0], file, indent=4)\n",
    "    with open(f'{file_dir}/facts_function_sample_50_taint_starchat.json', 'w') as file:\n",
    "        json.dump(data[1], file, indent=4)"
   ]
  }
 ],
 "metadata": {
  "kernelspec": {
   "display_name": "huggingface",
   "language": "python",
   "name": "python3"
  },
  "language_info": {
   "codemirror_mode": {
    "name": "ipython",
    "version": 3
   },
   "file_extension": ".py",
   "mimetype": "text/x-python",
   "name": "python",
   "nbconvert_exporter": "python",
   "pygments_lexer": "ipython3",
   "version": "3.10.5"
  }
 },
 "nbformat": 4,
 "nbformat_minor": 2
}
