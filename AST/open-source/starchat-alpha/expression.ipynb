{
 "cells": [
  {
   "cell_type": "code",
   "execution_count": null,
   "metadata": {},
   "outputs": [],
   "source": [
    "import csv\n",
    "import pandas as pd\n",
    "from transformers import AutoTokenizer, AutoModelForCausalLM\n",
    "import torch\n",
    "import os\n",
    "import json"
   ]
  },
  {
   "cell_type": "code",
   "execution_count": null,
   "metadata": {},
   "outputs": [],
   "source": [
    "base_path = \"/home/zhihao/ChatGPT_analysis_latest/all_datasets/expression_match/chatgpt\""
   ]
  },
  {
   "cell_type": "code",
   "execution_count": null,
   "metadata": {},
   "outputs": [],
   "source": [
    "def load_plm(model_name):\n",
    "  # 确保使用的是AutoModelForMaskedLM来加载掩码语言模型\n",
    "  tokenizer = AutoTokenizer.from_pretrained(f'/home/zhihao/.cache/huggingface/hub/{model_name}', trust_remote_code=True)\n",
    "  model = AutoModelForCausalLM.from_pretrained(f'/home/zhihao/.cache/huggingface/hub/{model_name}', trust_remote_code=True)\n",
    "\n",
    "  device = torch.device(\"cuda\" if torch.cuda.is_available() else \"cpu\")\n",
    "  model.to(device)\n",
    "  return tokenizer, model"
   ]
  },
  {
   "cell_type": "code",
   "execution_count": null,
   "metadata": {},
   "outputs": [],
   "source": [
    "tokenizer, model = load_plm('starchat-alpha')"
   ]
  },
  {
   "cell_type": "code",
   "execution_count": null,
   "metadata": {},
   "outputs": [],
   "source": [
    "def get_answer(question):\n",
    "  inputs = tokenizer.encode(question, return_tensors=\"pt\").to(model.device)\n",
    "  outputs = model.generate(inputs, max_length=2048)\n",
    "  response = tokenizer.decode(outputs[0])\n",
    "\n",
    "  return response"
   ]
  },
  {
   "cell_type": "code",
   "execution_count": null,
   "metadata": {},
   "outputs": [],
   "source": [
    "import csv\n",
    "import os\n",
    "\n",
    "def create_csv_with_files(base_dirs, csv_filename):\n",
    "    with open(csv_filename, 'w', newline='', encoding='utf-8') as csvfile:\n",
    "        filewriter = csv.writer(csvfile)\n",
    "        filewriter.writerow(['filename', 'status'])  # 写入标题行\n",
    "\n",
    "        for base_dir in base_dirs:\n",
    "            for file in sorted(os.listdir(base_dir)):\n",
    "                filewriter.writerow([base_dir + '/' + file, 0])  # 初始状态为0\n",
    "\n",
    "types = sorted(os.listdir(base_path))\n",
    "base_dirs = [os.path.join(base_path, f) for f in types]\n",
    "csv_filename = 'expression_status.csv'\n",
    "create_csv_with_files(base_dirs, csv_filename)\n"
   ]
  },
  {
   "cell_type": "code",
   "execution_count": null,
   "metadata": {},
   "outputs": [],
   "source": [
    "import csv\n",
    "\n",
    "def read_status_from_csv():\n",
    "    status_dict = {}\n",
    "    with open(csv_filename, 'r', newline='', encoding='utf-8') as csvfile:\n",
    "        reader = csv.reader(csvfile)\n",
    "        next(reader)  # 跳过标题行\n",
    "        for row in reader:\n",
    "            status_dict[row[0]] = int(row[1])  # 假设文件名在第一列，状态在第二列\n",
    "    return status_dict\n"
   ]
  },
  {
   "cell_type": "code",
   "execution_count": null,
   "metadata": {},
   "outputs": [],
   "source": [
    "\n",
    "def update_csv_status(filename, new_status):\n",
    "    rows = []\n",
    "    with open(csv_filename, 'r', newline='', encoding='utf-8') as file:\n",
    "        reader = csv.reader(file)\n",
    "        for row in reader:\n",
    "            if row[0] == filename:\n",
    "                row[1] = new_status\n",
    "            rows.append(row)\n",
    "\n",
    "    with open(csv_filename, 'w', newline='', encoding='utf-8') as file:\n",
    "        writer = csv.writer(file)\n",
    "        writer.writerows(rows)\n"
   ]
  },
  {
   "cell_type": "code",
   "execution_count": null,
   "metadata": {},
   "outputs": [
    {
     "ename": "",
     "evalue": "",
     "output_type": "error",
     "traceback": [
      "\u001b[1;31m在当前单元格或上一个单元格中执行代码时 Kernel 崩溃。请查看单元格中的代码，以确定故障的可能原因。有关详细信息，请单击 <a href='https://aka.ms/vscodeJupyterKernelCrash'>此处</a>。有关更多详细信息，请查看 Jupyter <a href='command:jupyter.viewOutput'>log</a>。"
     ]
    }
   ],
   "source": [
    "file_status = read_status_from_csv()\n",
    "types = os.listdir(base_path)\n",
    "types = sorted(types)\n",
    "for f in types:\n",
    "  first_path = os.path.join(base_path, f)\n",
    "  files = os.listdir(first_path)\n",
    "  files = sorted(files)\n",
    "  for sub_f in files:\n",
    "    question_dir = os.path.join(first_path, sub_f)\n",
    "    print(question_dir)\n",
    "    question_file = os.path.join(question_dir, \"question_0.md\")\n",
    "    answer_file = os.path.join(question_dir, \"starchat.md\")\n",
    "\n",
    "    # 检查该文件的状态\n",
    "    if file_status.get(question_dir, 0) == 1:\n",
    "        print(f\"跳过已处理文件: {question_file}\")\n",
    "        continue\n",
    "\n",
    "    with open(question_file, \"r\") as file:\n",
    "        question = file.read()\n",
    "\n",
    "    # 假设这是获取答案的函数\n",
    "    answer = get_answer(question)  # 替换为您的答案获取逻辑\n",
    "\n",
    "    with open(answer_file, \"w\") as file:\n",
    "        file.write(answer)\n",
    "    \n",
    "    # 更新文件状态为1\n",
    "    update_csv_status(question_dir, 1)"
   ]
  }
 ],
 "metadata": {
  "kernelspec": {
   "display_name": "huggingface",
   "language": "python",
   "name": "python3"
  },
  "language_info": {
   "codemirror_mode": {
    "name": "ipython",
    "version": 3
   },
   "file_extension": ".py",
   "mimetype": "text/x-python",
   "name": "python",
   "nbconvert_exporter": "python",
   "pygments_lexer": "ipython3",
   "version": "3.10.5"
  }
 },
 "nbformat": 4,
 "nbformat_minor": 2
}
