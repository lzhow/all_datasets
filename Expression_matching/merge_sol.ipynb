{
 "cells": [
  {
   "cell_type": "code",
   "execution_count": 1,
   "metadata": {},
   "outputs": [],
   "source": [
    "from utils.tree_sitter_utils import split_functions, remove_comments_and_docstrings\n",
    "import glob\n",
    "import os\n",
    "def merge_dir(dfolder, outputfolder):\n",
    "    os.makedirs(outputfolder, exist_ok=True)\n",
    "    outputfile = os.path.basename(dfolder)\n",
    "    with open(f\"{outputfolder}/{outputfile}.sol\", \"w\") as f:\n",
    "        for fname in glob.glob(f\"{dfolder}/**/*.sol\", recursive=True):\n",
    "            code = open(fname).read()\n",
    "            code = remove_comments_and_docstrings( code )\n",
    "            f.write(code)\n",
    "            f.write(\"\\n\")\n",
    "\n",
    "#merge_dir(\"./data/selected_whitepapers/BiFi_(BiFi)/BIFI/contracts/interestModel\", \"./data/selected_whitepapers/BiFi_(BiFi)/BIFI/contracts\")\n",
    "#merge_dir(\"./data/selected_whitepapers/BiFi_(BiFi)/BIFI/contracts/marketHandler\", \"./data/selected_whitepapers/BiFi_(BiFi)/BIFI/contracts\")\n",
    "#merge_dir(\"./data/selected_whitepapers/BiFi_(BiFi)/BIFI/contracts/marketManager\", \"./data/selected_whitepapers/BiFi_(BiFi)/BIFI/contracts\")\n",
    "#merge_dir(\"./data/selected_whitepapers/BiFi_(BiFi)/BIFI/contracts/marketManager\", \"./data/selected_whitepapers/BiFi_(BiFi)/BIFI/contracts\")"
   ]
  },
  {
   "cell_type": "code",
   "execution_count": null,
   "metadata": {},
   "outputs": [],
   "source": [
    "merge_dir(\"./data/selected_whitepapers/EthLend_(LEND)/aave-protocol/contracts/configuration\", \"./data/selected_whitepapers/EthLend_(LEND)/aave-protocol/merged_contracts\")\n",
    "merge_dir(\"./data/selected_whitepapers/EthLend_(LEND)/aave-protocol/contracts/fees\", \"./data/selected_whitepapers/EthLend_(LEND)/aave-protocol/merged_contracts\")\n",
    "merge_dir(\"./data/selected_whitepapers/EthLend_(LEND)/aave-protocol/contracts/lendingpool\", \"./data/selected_whitepapers/EthLend_(LEND)/aave-protocol/merged_contracts\")\n",
    "merge_dir(\"./data/selected_whitepapers/EthLend_(LEND)/aave-protocol/contracts/tokenization\", \"./data/selected_whitepapers/EthLend_(LEND)/aave-protocol/merged_contracts\")"
   ]
  },
  {
   "cell_type": "code",
   "execution_count": null,
   "metadata": {},
   "outputs": [],
   "source": [
    "# merge_dir(\"./data/selected_whitepapers/Beta_Token_(BETA)/contracts/finance\", \"./data/selected_whitepapers/Beta_Token_(BETA)/merged_contracts\")\n",
    "# merge_dir(\"./data/selected_whitepapers/Beta_Token_(BETA)/contracts/tokens\", \"./data/selected_whitepapers/Beta_Token_(BETA)/merged_contracts\")\n",
    "# merge_dir(\"./data/selected_whitepapers/Beta_Token_(BETA)/contracts/uniswap\", \"./data/selected_whitepapers/Beta_Token_(BETA)/merged_contracts\")\n"
   ]
  },
  {
   "cell_type": "code",
   "execution_count": 2,
   "metadata": {},
   "outputs": [],
   "source": [
    "#merge_dir(\"./data/selected_whitepapers/AlphaToken_(ALPHA)/alpha-lending-smart-contract/contracts\", \"./data/selected_whitepapers/AlphaToken_(ALPHA)/alpha-lending-smart-contract/merged_contracts\")"
   ]
  },
  {
   "cell_type": "code",
   "execution_count": 7,
   "metadata": {},
   "outputs": [
    {
     "name": "stdout",
     "output_type": "stream",
     "text": [
      "3126\n"
     ]
    }
   ],
   "source": [
    "import tiktoken\n",
    "def num_tokens_from_messages(value, model=\"gpt-3.5-turbo-0301\"):\n",
    "    \"\"\"Returns the number of tokens used by a list of messages.\"\"\"\n",
    "    try:\n",
    "        encoding = tiktoken.encoding_for_model(model)\n",
    "    except KeyError:\n",
    "        encoding = tiktoken.get_encoding(\"cl100k_base\")\n",
    "    if model == \"gpt-3.5-turbo-0301\":  # note: future models may deviate from this\n",
    "        num_tokens = 0\n",
    "        num_tokens += len(encoding.encode(value))\n",
    "        return num_tokens\n",
    "    else:\n",
    "        raise NotImplementedError(f\"\"\"num_tokens_from_messages() is not presently implemented for model {model}. See https://github.com/openai/openai-python/blob/main/chatml.md for information on how messages are converted to tokens.\"\"\")\n",
    "\n",
    "f1 = \"./data/selected_whitepapers/BiFi_(BiFi)/BIFI/contracts/marketHandler.sol\"\n",
    "\n",
    "funcs_list = split_functions( open(f1).read() )\n",
    "funcs = \" \\n \".join(funcs_list[:20])\n",
    "print(num_tokens_from_messages( funcs ))\n"
   ]
  }
 ],
 "metadata": {
  "kernelspec": {
   "display_name": "web3",
   "language": "python",
   "name": "python3"
  },
  "language_info": {
   "codemirror_mode": {
    "name": "ipython",
    "version": 3
   },
   "file_extension": ".py",
   "mimetype": "text/x-python",
   "name": "python",
   "nbconvert_exporter": "python",
   "pygments_lexer": "ipython3",
   "version": "3.9.15"
  },
  "orig_nbformat": 4
 },
 "nbformat": 4,
 "nbformat_minor": 2
}
