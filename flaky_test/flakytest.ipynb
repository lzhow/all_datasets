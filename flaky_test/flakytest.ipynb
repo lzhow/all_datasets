{
 "cells": [
  {
   "cell_type": "code",
   "execution_count": null,
   "metadata": {},
   "outputs": [],
   "source": [
    "from transformers import AutoTokenizer, AutoModelForCausalLM\n",
    "import torch\n",
    "import os\n",
    "import json\n",
    "\n",
    "def load_plm(model_name):\n",
    "  # 确保使用的是AutoModelForMaskedLM来加载掩码语言模型\n",
    "  tokenizer = AutoTokenizer.from_pretrained(f'/home/zhihao/.cache/huggingface/hub/{model_name}', trust_remote_code=True)\n",
    "  model = AutoModelForCausalLM.from_pretrained(f'/home/zhihao/.cache/huggingface/hub/{model_name}', trust_remote_code=True)\n",
    "\n",
    "  device = torch.device(\"cuda\" if torch.cuda.is_available() else \"cpu\")\n",
    "  model.to(device)\n",
    "  return tokenizer, model"
   ]
  },
  {
   "cell_type": "code",
   "execution_count": null,
   "metadata": {},
   "outputs": [],
   "source": [
    "print(os.getcwd())\n",
    "os.chdir('all_datasets/flakytest/')"
   ]
  },
  {
   "cell_type": "code",
   "execution_count": null,
   "metadata": {},
   "outputs": [],
   "source": [
    "summary_concept = \"summary_concept.xlsx\"\n",
    "summary = \"summary.xlsx\""
   ]
  },
  {
   "cell_type": "code",
   "execution_count": null,
   "metadata": {},
   "outputs": [],
   "source": [
    "import pandas as pd\n",
    "\n",
    "# 读取Excel文件\n",
    "df = pd.read_excel(summary)\n",
    "# 提取question列\n",
    "summary_questions = df['question'].tolist()\n",
    "\n",
    "\n",
    "# 读取Excel文件\n",
    "df = pd.read_excel(summary_concept)\n",
    "# 提取question列\n",
    "summary_concept_questions = df['question'].tolist()"
   ]
  },
  {
   "cell_type": "code",
   "execution_count": null,
   "metadata": {},
   "outputs": [],
   "source": []
  },
  {
   "cell_type": "markdown",
   "metadata": {},
   "source": [
    "## codellama"
   ]
  },
  {
   "cell_type": "code",
   "execution_count": null,
   "metadata": {},
   "outputs": [],
   "source": [
    "tokenizer, model = load_plm('CodeLlama-13b-Instruct-hf')"
   ]
  },
  {
   "cell_type": "code",
   "execution_count": null,
   "metadata": {},
   "outputs": [],
   "source": [
    "def get_answer(prompt):\n",
    "  inputs = tokenizer.encode(prompt, return_tensors=\"pt\").to(model.device)\n",
    "  outputs = model.generate(inputs, max_length=4096, top_k=1)\n",
    "  response = tokenizer.decode(outputs[0])\n",
    "\n",
    "  return response"
   ]
  },
  {
   "cell_type": "code",
   "execution_count": null,
   "metadata": {},
   "outputs": [],
   "source": [
    "def extract_answer(text):\n",
    "    start_marker = \"Here's your answer: \\n\\n\"\n",
    "    end_marker = \"`\\n\"\n",
    "    start_index = text.find(start_marker)\n",
    "    if start_index != -1:\n",
    "        start_index += len(start_marker) + 1\n",
    "        end_index = text.find(end_marker, start_index)\n",
    "        if end_index != -1:\n",
    "            return text[start_index:end_index].strip()\n",
    "    return None"
   ]
  },
  {
   "cell_type": "code",
   "execution_count": null,
   "metadata": {},
   "outputs": [],
   "source": [
    "def test():\n",
    "  with open('test.txt', 'r') as f:\n",
    "    content = f.read()\n",
    "    answer = extract_answer(content)\n",
    "    print(answer)"
   ]
  },
  {
   "cell_type": "code",
   "execution_count": null,
   "metadata": {},
   "outputs": [],
   "source": [
    "test()"
   ]
  },
  {
   "cell_type": "code",
   "execution_count": null,
   "metadata": {},
   "outputs": [],
   "source": [
    "# 输出文件路径\n",
    "import csv\n",
    "output_file_path = 'codellama_summary.csv'\n",
    "\n",
    "with open(output_file_path, 'w', newline='', encoding='utf-8') as csvfile:\n",
    "    writer = csv.writer(csvfile)\n",
    "    writer.writerow(['question', 'answer'])  # 写入标题行\n",
    "\n",
    "    for question in summary_questions:\n",
    "        question_with_prompt = question + \"\\nHere's your answer: \"\n",
    "        res = get_answer(question_with_prompt)  # 假设这是获取答案的函数\n",
    "        answer = extract_answer(res)\n",
    "\n",
    "        # 写入每一行数据\n",
    "        writer.writerow([question, answer])\n",
    "\n",
    "# 重复同样的过程对summary_concept_questions处理\n",
    "output_file_path_concept = 'codellama_summary_concept.csv'\n",
    "\n",
    "with open(output_file_path_concept, 'w', newline='', encoding='utf-8') as csvfile:\n",
    "    writer = csv.writer(csvfile)\n",
    "    writer.writerow(['question', 'answer'])  # 写入标题行\n",
    "\n",
    "    for question in summary_concept_questions:\n",
    "        question_with_prompt = question + \"\\nHere's your answer: \"\n",
    "        res = get_answer(question_with_prompt)  # 假设这是获取答案的函数\n",
    "        answer = extract_answer(res)\n",
    "\n",
    "        # 写入每一行数据\n",
    "        writer.writerow([question, answer])\n",
    "\n",
    "print(f\"新数据已保存到 {output_file_path} 和 {output_file_path_concept}\")\n"
   ]
  },
  {
   "cell_type": "markdown",
   "metadata": {},
   "source": [
    "## starchat"
   ]
  },
  {
   "cell_type": "code",
   "execution_count": null,
   "metadata": {},
   "outputs": [],
   "source": [
    "tokenizer, model = load_plm('starchat-alpha')"
   ]
  },
  {
   "cell_type": "code",
   "execution_count": null,
   "metadata": {},
   "outputs": [],
   "source": [
    "def test():\n",
    "  with open('test.txt', 'w') as f:\n",
    "    for question in summary_questions:\n",
    "      question_with_prompt = question + \"\\nHere's your answer: \"\n",
    "      res = get_answer(question_with_prompt)  # 假设这是获取答案的函数\n",
    "      f.write(res)\n",
    "      break"
   ]
  },
  {
   "cell_type": "code",
   "execution_count": null,
   "metadata": {},
   "outputs": [],
   "source": [
    "def extract_answer(text):\n",
    "    start_marker = \"Here's your answer:  `\"\n",
    "    end_marker = \"`<|end|>\"\n",
    "    start_index = text.find(start_marker)\n",
    "    if start_index != -1:\n",
    "        start_index += len(start_marker)\n",
    "        end_index = text.find(end_marker, start_index)\n",
    "        if end_index != -1:\n",
    "            return text[start_index:end_index].strip()\n",
    "    return None"
   ]
  },
  {
   "cell_type": "code",
   "execution_count": null,
   "metadata": {},
   "outputs": [],
   "source": [
    "def test():\n",
    "  with open('test.txt', 'r') as f:\n",
    "    content = f.read()\n",
    "    answer = extract_answer(content)\n",
    "    print(answer)"
   ]
  },
  {
   "cell_type": "code",
   "execution_count": null,
   "metadata": {},
   "outputs": [],
   "source": [
    "test()"
   ]
  },
  {
   "cell_type": "code",
   "execution_count": null,
   "metadata": {},
   "outputs": [],
   "source": [
    "# 输出文件路径\n",
    "import csv\n",
    "output_file_path = 'starchat_summary.csv'\n",
    "\n",
    "with open(output_file_path, 'w', newline='', encoding='utf-8') as csvfile:\n",
    "    writer = csv.writer(csvfile)\n",
    "    writer.writerow(['question', 'answer'])  # 写入标题行\n",
    "\n",
    "    for i, question in enumerate(summary_questions):\n",
    "        question_with_prompt = question + \"\\nHere's your answer: \"\n",
    "        res = get_answer(question_with_prompt)  # 假设这是获取答案的函数\n",
    "        answer = extract_answer(res)\n",
    "        with open(f'starchat/{i}.txt', 'w') as f:\n",
    "          f.write(res)\n",
    "        # 写入每一行数据\n",
    "        writer.writerow([question, answer])\n",
    "\n",
    "# 重复同样的过程对summary_concept_questions处理\n",
    "output_file_path_concept = 'starchat_summary_concept.csv'\n",
    "\n",
    "with open(output_file_path_concept, 'w', newline='', encoding='utf-8') as csvfile:\n",
    "    writer = csv.writer(csvfile)\n",
    "    writer.writerow(['question', 'answer'])  # 写入标题行\n",
    "\n",
    "    for i, question in enumerate(summary_concept_questions):\n",
    "        question_with_prompt = question + \"\\nHere's your answer: \"\n",
    "        res = get_answer(question_with_prompt)  # 假设这是获取答案的函数\n",
    "        answer = extract_answer(res)\n",
    "        with open(f'starchat/{i}_concept.txt', 'w') as f:\n",
    "          f.write(res)\n",
    "\n",
    "        # 写入每一行数据\n",
    "        writer.writerow([question, answer])\n",
    "\n",
    "print(f\"新数据已保存到 {output_file_path} 和 {output_file_path_concept}\")\n"
   ]
  },
  {
   "cell_type": "code",
   "execution_count": null,
   "metadata": {},
   "outputs": [],
   "source": [
    "def extract_answer2(text):\n",
    "    start_marker = \"Here's your answer: \\n\"\n",
    "    end_marker = \"<|end|>\"\n",
    "    start_index = text.find(start_marker)\n",
    "    if start_index != -1:\n",
    "        start_index += len(start_marker)\n",
    "        end_index = text.find(end_marker, start_index)\n",
    "        if end_index != -1:\n",
    "            return text[start_index:end_index].strip()\n",
    "    return None"
   ]
  },
  {
   "cell_type": "code",
   "execution_count": null,
   "metadata": {},
   "outputs": [],
   "source": [
    "import csv\n",
    "\n",
    "output_file_path = 'starchat_summary_concept.csv'\n",
    "temp_file_path = 'temp_concept.csv'\n",
    "\n",
    "# 读取CSV文件并找到空答案的行\n",
    "rows_to_update = []\n",
    "with open(output_file_path, 'r', newline='', encoding='utf-8') as csvfile, \\\n",
    "      open(temp_file_path, 'w', newline='', encoding='utf-8') as temp_file:\n",
    "    \n",
    "    reader = csv.reader(csvfile)\n",
    "    header = next(reader)  # 跳过标题行\n",
    "\n",
    "    writer = csv.writer(temp_file)\n",
    "    writer.writerow(['question', 'answer'])  # 写入标题行\n",
    "\n",
    "    for i, row in enumerate(reader):\n",
    "        question, answer = row\n",
    "        if answer:\n",
    "            print(f'{i}: {answer} (skipped)')\n",
    "            # 写入每一行数据\n",
    "            writer.writerow([question, answer])\n",
    "\n",
    "        if not answer:  # 答案为空\n",
    "            # 尝试从文本文件中读取答案\n",
    "            try:\n",
    "                with open(f'starchat/{i}_concept.txt', 'r') as f:\n",
    "                    answer = f.read().strip()\n",
    "                    answer = extract_answer2(answer)\n",
    "                    print(f'{i}: {answer}')\n",
    "                    # 写入每一行数据\n",
    "                    writer.writerow([question, answer])\n",
    "                # if answer:\n",
    "                    # rows_to_update.append((i, question, answer))\n",
    "            except FileNotFoundError:\n",
    "                print(f\"File not found for question {i}: {question}\")\n",
    "\n",
    "# # 用更新过的文件替换原文件\n",
    "import shutil\n",
    "shutil.move(temp_file_path, output_file_path)\n"
   ]
  }
 ],
 "metadata": {
  "kernelspec": {
   "display_name": "huggingface",
   "language": "python",
   "name": "python3"
  },
  "language_info": {
   "codemirror_mode": {
    "name": "ipython",
    "version": 3
   },
   "file_extension": ".py",
   "mimetype": "text/x-python",
   "name": "python",
   "nbconvert_exporter": "python",
   "pygments_lexer": "ipython3",
   "version": "3.10.5"
  }
 },
 "nbformat": 4,
 "nbformat_minor": 2
}
