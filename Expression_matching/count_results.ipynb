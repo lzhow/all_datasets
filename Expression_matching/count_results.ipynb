{
 "cells": [
  {
   "cell_type": "code",
   "execution_count": 3,
   "metadata": {},
   "outputs": [
    {
     "name": "stdout",
     "output_type": "stream",
     "text": [
      "8 10 12\n"
     ]
    }
   ],
   "source": [
    "codebert = \"./data/selected_whitepapers/codebert_eval.csv\"\n",
    "import pandas as pd\n",
    "df_bert = pd.read_csv(codebert)\n",
    "print(f\"{df_bert['top-5'].sum()} {df_bert['top-10'].sum()} {df_bert['top-20'].sum()}\")"
   ]
  },
  {
   "cell_type": "code",
   "execution_count": 4,
   "metadata": {},
   "outputs": [
    {
     "name": "stdout",
     "output_type": "stream",
     "text": [
      "28\n"
     ]
    }
   ],
   "source": [
    "codebert = \"./data/selected_whitepapers/chatgpt_eval.csv\"\n",
    "import pandas as pd\n",
    "df_bert = pd.read_csv(codebert)\n",
    "print(f\"{df_bert['isFinding'].sum()}\")"
   ]
  }
 ],
 "metadata": {
  "kernelspec": {
   "display_name": "web3",
   "language": "python",
   "name": "python3"
  },
  "language_info": {
   "codemirror_mode": {
    "name": "ipython",
    "version": 3
   },
   "file_extension": ".py",
   "mimetype": "text/x-python",
   "name": "python",
   "nbconvert_exporter": "python",
   "pygments_lexer": "ipython3",
   "version": "3.9.15"
  },
  "orig_nbformat": 4
 },
 "nbformat": 4,
 "nbformat_minor": 2
}
