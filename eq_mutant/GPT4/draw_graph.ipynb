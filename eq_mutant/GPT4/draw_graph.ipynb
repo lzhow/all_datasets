{
 "cells": [
  {
   "cell_type": "code",
   "execution_count": 1,
   "metadata": {},
   "outputs": [],
   "source": [
    "import os\n",
    "os.chdir(\"GPT4/mutant/\")"
   ]
  },
  {
   "cell_type": "code",
   "execution_count": 2,
   "metadata": {},
   "outputs": [],
   "source": [
    "from matplotlib import pyplot as plt\n",
    "import pandas as pd\n",
    "file_path = 'chatgpt4_fewshot_predictions.xlsx'  # \n",
    "df = pd.read_excel(file_path)\n",
    "df_focus = df[['label', 'predict', 'isCorrect']]\n",
    "confusion_matrix = pd.DataFrame(\n",
    "    {'Predicted Positive': [0, 0],\n",
    "     'Predicted Negative': [0, 0]},\n",
    "    index=['Actual Positive', 'Actual Negative']\n",
    ")\n",
    "for index, row in df_focus.iterrows():\n",
    "    actual = 'Actual Positive' if row['label'] == 1 else 'Actual Negative'\n",
    "    predicted = 'Predicted Positive' if row['predict'] == 1 else 'Predicted Negative'\n",
    "    confusion_matrix.at[actual, predicted] += 1\n",
    "    \n",
    "# \n",
    "fig, ax = plt.subplots(figsize=(6, 3))  # \n",
    "ax.axis('tight')\n",
    "ax.axis('off')\n",
    "table = ax.table(cellText=confusion_matrix.values, colLabels=confusion_matrix.columns,\n",
    "                 rowLabels=confusion_matrix.index, loc='center', cellLoc='center')\n",
    "table.auto_set_font_size(False)\n",
    "table.set_fontsize(12)  # \n",
    "table.scale(1, 1.5)  # \n",
    "\n",
    "# \n",
    "plt.savefig('gpt4_fewshot.png', bbox_inches='tight', pad_inches=0.05)\n",
    "plt.close()\n"
   ]
  }
 ],
 "metadata": {
  "kernelspec": {
   "display_name": "huggingface",
   "language": "python",
   "name": "python3"
  },
  "language_info": {
   "codemirror_mode": {
    "name": "ipython",
    "version": 3
   },
   "file_extension": ".py",
   "mimetype": "text/x-python",
   "name": "python",
   "nbconvert_exporter": "python",
   "pygments_lexer": "ipython3",
   "version": "3.10.5"
  }
 },
 "nbformat": 4,
 "nbformat_minor": 2
}
